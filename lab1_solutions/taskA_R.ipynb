{
  "nbformat": 4,
  "nbformat_minor": 0,
  "metadata": {
    "colab": {
      "name": "taskA-R.ipynb",
      "provenance": [],
      "collapsed_sections": []
    },
    "kernelspec": {
      "name": "python3",
      "display_name": "Python 3"
    },
    "language_info": {
      "name": "python"
    }
  },
  "cells": [
    {
      "cell_type": "code",
      "metadata": {
        "id": "RDLrd6ehSi5f"
      },
      "source": [
        "# Useful starting lines\n",
        "%matplotlib inline\n",
        "import numpy as np\n",
        "import matplotlib.pyplot as plt\n",
        "%load_ext autoreload\n",
        "%autoreload 2\n"
      ],
      "execution_count": 1,
      "outputs": []
    },
    {
      "cell_type": "code",
      "metadata": {
        "id": "09f_xcOhS2hD"
      },
      "source": [
        "n, d = 10, 5"
      ],
      "execution_count": 2,
      "outputs": []
    },
    {
      "cell_type": "code",
      "metadata": {
        "colab": {
          "base_uri": "https://localhost:8080/"
        },
        "id": "xZ3pQvhhTrhf",
        "outputId": "b217f153-850c-4897-9564-46d458f9ab82"
      },
      "source": [
        "a = np.random.randn(n, d)\n",
        "print(a)"
      ],
      "execution_count": 5,
      "outputs": [
        {
          "output_type": "stream",
          "text": [
            "[[ 1.11889414  0.46117848  1.7981872  -0.77758631 -0.0808367 ]\n",
            " [ 1.42584297  0.29652459  1.00151357  1.39398305  0.13781781]\n",
            " [ 0.71929576 -0.39536539  2.50458907  0.98821513  0.08998202]\n",
            " [ 0.24453661  0.23443012  2.22280656  2.40035515  1.03913675]\n",
            " [ 1.20836821  0.05001536  0.51849474  1.08348034  0.32972688]\n",
            " [ 0.51528045 -1.32130735  1.62097699 -0.9578484   0.23005651]\n",
            " [-1.18476195 -0.25682181  0.36322405  0.17334903 -1.05349185]\n",
            " [ 0.37087839 -0.95926353 -2.1953675   0.65668716  1.04248797]\n",
            " [-0.54180819  0.87153597  2.28950691  1.00533513  1.45461735]\n",
            " [ 0.37187023  0.02640263  0.62889522  1.31116352 -1.79038629]]\n"
          ],
          "name": "stdout"
        }
      ]
    },
    {
      "cell_type": "code",
      "metadata": {
        "colab": {
          "base_uri": "https://localhost:8080/"
        },
        "id": "pKNYWPV2U2-Z",
        "outputId": "af2df4d5-f3cc-46d2-f958-de27e164bd27"
      },
      "source": [
        "a = (a - np.mean(a)) / np.std(a)\n",
        "print(a)"
      ],
      "execution_count": 6,
      "outputs": [
        {
          "output_type": "stream",
          "text": [
            "[[ 0.64263357  0.00722872  1.29888388 -1.1895151  -0.5164004 ]\n",
            " [ 0.93917019 -0.15183983  0.52923475  0.90839101 -0.30516301]\n",
            " [ 0.25659023 -0.82025974  1.98132342  0.51638741 -0.35137613]\n",
            " [-0.20206429 -0.21182796  1.70909944  1.88062529  0.56558169]\n",
            " [ 0.72907253 -0.38998705  0.06260072  0.60842107 -0.11976382]\n",
            " [ 0.05949546 -1.71479221  1.12768493 -1.3636624  -0.2160532 ]\n",
            " [-1.58287866 -0.68641579 -0.08740292 -0.27083707 -1.45606147]\n",
            " [-0.08000824 -1.36502952 -2.55920278  0.19610542  0.56881923]\n",
            " [-0.96173497  0.4036662   1.7735372   0.53292667  0.96696849]\n",
            " [-0.07905004 -0.4127988   0.16925623  0.82838086 -2.16795921]]\n"
          ],
          "name": "stdout"
        }
      ]
    }
  ]
}